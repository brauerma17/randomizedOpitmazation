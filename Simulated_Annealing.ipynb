{
 "cells": [
  {
   "cell_type": "code",
   "execution_count": null,
   "metadata": {},
   "outputs": [],
   "source": [
    "import mlrose\n",
    "import numpy as np\n",
    "import csv\n",
    "import pandas as pd\n",
    "import matplotlib.pyplot as plt\n",
    "\n",
    "from timeit import default_timer as timer\n",
    "from sklearn import preprocessing\n",
    "from sklearn.model_selection import train_test_split\n",
    "from sklearn.preprocessing import MinMaxScaler, OneHotEncoder\n",
    "from sklearn.metrics import accuracy_score\n",
    "from textwrap import wrap"
   ]
  },
  {
   "cell_type": "code",
   "execution_count": null,
   "metadata": {},
   "outputs": [],
   "source": [
    "df = pd.read_csv('audit_dataset.csv', header = None)\n",
    "\n",
    "df = pd.get_dummies(df)\n",
    "\n",
    "df = df.astype(float)\n",
    "\n",
    "X = df.iloc[:, 0:-1]\n",
    "y = df.iloc[:, -1]"
   ]
  },
  {
   "cell_type": "code",
   "execution_count": null,
   "metadata": {},
   "outputs": [],
   "source": [
    "X_train, X_test, y_train, y_test = train_test_split(X, y, test_size=0.30, random_state=30)"
   ]
  },
  {
   "cell_type": "code",
   "execution_count": null,
   "metadata": {},
   "outputs": [],
   "source": [
    "scaler = MinMaxScaler()\n",
    "\n",
    "X_train_scaled = X_train\n",
    "X_test_scaled = X_test"
   ]
  },
  {
   "cell_type": "code",
   "execution_count": null,
   "metadata": {},
   "outputs": [],
   "source": [
    "one_hot = OneHotEncoder(categories='auto')\n",
    "\n",
    "y_train_hot = one_hot.fit_transform(y_train.values.reshape(-1, 1)).todense()\n",
    "y_test_hot = one_hot.transform(y_test.values.reshape(-1, 1)).todense()"
   ]
  },
  {
   "cell_type": "markdown",
   "metadata": {},
   "source": [
    "# Testing Decay Function - Geometric "
   ]
  },
  {
   "cell_type": "code",
   "execution_count": null,
   "metadata": {},
   "outputs": [],
   "source": [
    "numberofIter = list(range(100, 1000, 50))\n",
    "testError = []\n",
    "trainError = []\n",
    "for n in numberofIter :\n",
    "    nn_model1 = mlrose.NeuralNetwork(hidden_nodes = [10, 15, 10], activation ='tanh', \n",
    "                                 algorithm ='simulated_annealing', \n",
    "                                 max_iters = n, bias = True, is_classifier = True, \n",
    "                                 learning_rate = .0001, early_stopping = True, schedule = mlrose.GeomDecay())\n",
    "    nn_model1.fit(X_train_scaled, y_train_hot)\n",
    "    y_train_pred = nn_model1.predict(X_train_scaled)\n",
    "    train_error = 1 - accuracy_score(y_train_hot, y_train_pred)\n",
    "    trainError.append(train_error)\n",
    "    y_test_pred = nn_model1.predict(X_test_scaled)\n",
    "    test_error = 1 - accuracy_score(y_test_hot, y_test_pred)\n",
    "    testError.append(test_error)\n",
    "    print(n, train_error, test_error)\n"
   ]
  },
  {
   "cell_type": "code",
   "execution_count": null,
   "metadata": {},
   "outputs": [],
   "source": [
    "plt.figure()\n",
    "title = \"Simulated Annealing : Error x Number of Max Iterations - Geometric Decay\"\n",
    "plt.title('\\n'.join(wrap(title,60)))\n",
    "# plt.subplots_adjust(top=0.85)\n",
    "plt.plot(numberofIter, testError, '-', label='Test Error')\n",
    "plt.plot(numberofIter, trainError, '-', label='Train Error')\n",
    "plt.legend()\n",
    "plt.xlabel('Max Iterations')\n",
    "plt.ylabel('Error')\n",
    "filename = 'Geometric5.png'\n",
    "plt.savefig(\"SA/\" + filename)"
   ]
  },
  {
   "cell_type": "markdown",
   "metadata": {},
   "source": [
    "# Testing Decay Function - Arithmetically  "
   ]
  },
  {
   "cell_type": "code",
   "execution_count": null,
   "metadata": {},
   "outputs": [],
   "source": [
    "numberofIter = list(range(100, 1000, 50))\n",
    "testError = []\n",
    "trainError = []\n",
    "for n in numberofIter :\n",
    "    nn_model1 = mlrose.NeuralNetwork(hidden_nodes = [10, 15, 10], activation ='tanh', \n",
    "                                 algorithm ='simulated_annealing', \n",
    "                                 max_iters = n, bias = True, is_classifier = True, \n",
    "                                 learning_rate = .0001, early_stopping = True, schedule = mlrose.ArithDecay())\n",
    "    nn_model1.fit(X_train_scaled, y_train_hot)\n",
    "    y_train_pred = nn_model1.predict(X_train_scaled)\n",
    "    train_error = 1 - accuracy_score(y_train_hot, y_train_pred)\n",
    "    trainError.append(train_error)\n",
    "    y_test_pred = nn_model1.predict(X_test_scaled)\n",
    "    test_error = 1 - accuracy_score(y_test_hot, y_test_pred)\n",
    "    testError.append(test_error)\n",
    "    print(n, train_error, test_error)\n",
    "\n"
   ]
  },
  {
   "cell_type": "code",
   "execution_count": null,
   "metadata": {},
   "outputs": [],
   "source": [
    "plt.figure()\n",
    "title = \"Simulated Annealing : Error x Number of Max Iterations - Arithmetical Decay\"\n",
    "plt.title('\\n'.join(wrap(title,60)))\n",
    "# plt.subplots_adjust(top=0.85)\n",
    "plt.plot(numberofIter, testError, '-', label='Test Error')\n",
    "plt.plot(numberofIter, trainError, '-', label='Train Error')\n",
    "plt.legend()\n",
    "plt.xlabel('Max Iterations')\n",
    "plt.ylabel('Error')\n",
    "filename = 'Arithem2.png'\n",
    "plt.savefig(\"SA/\" + filename)"
   ]
  },
  {
   "cell_type": "markdown",
   "metadata": {},
   "source": [
    "# Testing Decay Function - Exposional  "
   ]
  },
  {
   "cell_type": "code",
   "execution_count": null,
   "metadata": {},
   "outputs": [],
   "source": [
    "numberofIter = list(range(100, 1000, 50))\n",
    "testError = []\n",
    "trainError = []\n",
    "for n in numberofIter :\n",
    "    nn_model1 = mlrose.NeuralNetwork(hidden_nodes = [10, 15, 10], activation ='tanh', \n",
    "                                 algorithm ='simulated_annealing', \n",
    "                                 max_iters = n, bias = True, is_classifier = True, \n",
    "                                 learning_rate = .0001, early_stopping = True, schedule = mlrose.ExpDecay())\n",
    "    nn_model1.fit(X_train_scaled, y_train_hot)\n",
    "    y_train_pred = nn_model1.predict(X_train_scaled)\n",
    "    train_error = 1 - accuracy_score(y_train_hot, y_train_pred)\n",
    "    trainError.append(train_error)\n",
    "    y_test_pred = nn_model1.predict(X_test_scaled)\n",
    "    test_error = 1 - accuracy_score(y_test_hot, y_test_pred)\n",
    "    testError.append(test_error)\n",
    "    print(n, train_error, test_error)\n",
    "\n",
    "\n"
   ]
  },
  {
   "cell_type": "code",
   "execution_count": null,
   "metadata": {},
   "outputs": [],
   "source": [
    "plt.figure()\n",
    "title = \"Simulated Annealing : Error x Number of Max Iterations - Exponential Decay\"\n",
    "plt.title('\\n'.join(wrap(title,60)))\n",
    "# plt.subplots_adjust(top=0.85)\n",
    "plt.plot(numberofIter, testError, '-', label='Test Error')\n",
    "plt.plot(numberofIter, trainError, '-', label='Train Error')\n",
    "plt.legend()\n",
    "plt.xlabel('Max Iterations')\n",
    "plt.ylabel('Error')\n",
    "filename = 'Expo7.png'\n",
    "plt.savefig(\"SA/\" + filename)"
   ]
  },
  {
   "cell_type": "markdown",
   "metadata": {},
   "source": [
    "# Runtime "
   ]
  },
  {
   "cell_type": "code",
   "execution_count": null,
   "metadata": {},
   "outputs": [],
   "source": [
    "time = []\n",
    "testError = []\n",
    "trainError = []\n",
    "print(\"start\")\n",
    "for i in range(0, 10) :\n",
    "    start = timer()\n",
    "    nn_model1 = mlrose.NeuralNetwork(hidden_nodes = [10, 15, 10], activation ='tanh', \n",
    "                                 algorithm ='simulated_annealing', \n",
    "                                 max_iters = 1000, bias = True, is_classifier = True, \n",
    "                                 learning_rate = .0001, early_stopping = True, schedule = mlrose.GeomDecay())\n",
    "    nn_model1.fit(X_train_scaled, y_train_hot)\n",
    "    y_train_pred = nn_model1.predict(X_train_scaled)\n",
    "    train_error = 1 - accuracy_score(y_train_hot, y_train_pred)\n",
    "    trainError.append(train_error)\n",
    "    y_test_pred = nn_model1.predict(X_test_scaled)\n",
    "    test_error = 1 - accuracy_score(y_test_hot, y_test_pred)\n",
    "    testError.append(test_error)\n",
    "    end = timer()\n",
    "    time.append(end - start)\n",
    "    print(i, time[i])\n",
    "print(time)\n"
   ]
  },
  {
   "cell_type": "code",
   "execution_count": null,
   "metadata": {},
   "outputs": [],
   "source": [
    "print(sum(time)/len(time))"
   ]
  },
  {
   "cell_type": "code",
   "execution_count": null,
   "metadata": {},
   "outputs": [],
   "source": []
  }
 ],
 "metadata": {
  "kernelspec": {
   "display_name": "Python 3",
   "language": "python",
   "name": "python3"
  },
  "language_info": {
   "codemirror_mode": {
    "name": "ipython",
    "version": 3
   },
   "file_extension": ".py",
   "mimetype": "text/x-python",
   "name": "python",
   "nbconvert_exporter": "python",
   "pygments_lexer": "ipython3",
   "version": "3.7.0"
  }
 },
 "nbformat": 4,
 "nbformat_minor": 2
}
